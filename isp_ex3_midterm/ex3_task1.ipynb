{
 "cells": [
  {
   "cell_type": "markdown",
   "id": "3f1513cd-39e7-4dce-9c62-298d7356838d",
   "metadata": {},
   "source": [
    "### Task 1\n",
    "Extract secret message from Ex3_sound1.wav."
   ]
  },
  {
   "cell_type": "code",
   "execution_count": 1,
   "id": "bc003f9f-94c1-4caa-b6ce-90bf8cf9e395",
   "metadata": {},
   "outputs": [],
   "source": [
    "# import libraries\n",
    "import wave\n",
    "import os\n",
    "\n",
    "ex3_audio = \"audio/Ex3_sound1.wav\" # file location"
   ]
  },
  {
   "cell_type": "markdown",
   "id": "36677b53-0e9f-4ae1-8f93-4acf852ab735",
   "metadata": {},
   "source": [
    "#### This function handles extraction of least significant bit of a byte."
   ]
  },
  {
   "cell_type": "code",
   "execution_count": 2,
   "id": "f60be2f2-67f1-44a1-bfa5-7a7f02467b65",
   "metadata": {},
   "outputs": [],
   "source": [
    "def extract_lsb_of_byte(byte):\n",
    "    return byte & 1"
   ]
  },
  {
   "cell_type": "markdown",
   "id": "7a0ac02b-403d-44f1-b18f-7de372d3fd3c",
   "metadata": {},
   "source": [
    "#### This function handles extraction of bits."
   ]
  },
  {
   "cell_type": "code",
   "execution_count": 3,
   "id": "38a13da3-995a-4e85-8d5c-d48aab4f4f80",
   "metadata": {},
   "outputs": [],
   "source": [
    "def extract_bits(read_frame, get_channels, get_sample_width):\n",
    "    return [str(extract_lsb_of_byte(read_frame[channel * get_sample_width + byte_index])) \n",
    "            for channel in range(get_channels) for byte_index in range(get_sample_width)]"
   ]
  },
  {
   "cell_type": "markdown",
   "id": "5ecd96e5-61df-4da8-a1c2-32b6444b3a48",
   "metadata": {},
   "source": [
    "#### This function handles extraction and assembly of secret message."
   ]
  },
  {
   "cell_type": "code",
   "execution_count": 4,
   "id": "67412677-34a1-45d4-9f12-58a7a9a729f3",
   "metadata": {},
   "outputs": [
    {
     "name": "stdout",
     "output_type": "stream",
     "text": [
      "The Ex3_sound1.wav was opened successfully!\n"
     ]
    }
   ],
   "source": [
    "def extract_secret_message(ex3_audio):\n",
    "    try: # try to open the file\n",
    "        with wave.open(ex3_audio, 'rb') as file:\n",
    "            # if opened, print a success message\n",
    "            print(\"The\", os.path.basename(ex3_audio), \"was opened successfully!\")\n",
    "            \n",
    "            # get channels, width and frames\n",
    "            get_channels = file.getnchannels()\n",
    "            get_sample_width= file.getsampwidth()\n",
    "            get_frames = file.getnframes()\n",
    "            \n",
    "            # variables initialization\n",
    "            secret_message = \"\"\n",
    "            byte = \"\"\n",
    "            count = 0\n",
    "\n",
    "            # loop through every frame and channel in file\n",
    "            for index in range(get_frames):\n",
    "                read_frames = file.readframes(1)\n",
    "                bits = extract_bits(read_frames, get_channels, get_sample_width)\n",
    "\n",
    "                # add bits to byte\n",
    "                for bit in bits:\n",
    "                    byte += bit\n",
    "                    count += 1\n",
    "                    \n",
    "                    # if it's a byte (number of bits  == 8), then check if character is created \n",
    "                    if count == 8:\n",
    "                        character = chr(int(byte, 2))\n",
    "                        byte = \"\"\n",
    "                        count = 0\n",
    "                        \n",
    "                        # if it's new line or ends with \"###\"\n",
    "                        if character == '\\n' or secret_message.endswith(\"###\"):\n",
    "                            # delete \"###\"\n",
    "                            return secret_message.rstrip(\"###\")\n",
    "                        \n",
    "                        # otherwise create secret message from characters\n",
    "                        secret_message += character\n",
    "            \n",
    "            # return secret message minus \"###\" characters         \n",
    "            return secret_message.rstrip(\"###\")\n",
    "    \n",
    "    # raise an exception if unable to open file \n",
    "    except FileNotFoundError:\n",
    "        print( \"The ex3_audio file is not found.\")\n",
    "    except PermissionError:\n",
    "        return \"You do not have permission for ex3_audio file.\"\n",
    "    except wave.Error as e:\n",
    "        return f\"Error while working with ex3_audio file: {str(e)}\"\n",
    "\n",
    "# displays success or failure of opened file\n",
    "extraction_result = extract_secret_message(ex3_audio) "
   ]
  },
  {
   "cell_type": "markdown",
   "id": "c2da72e9-92c5-499c-a4cb-23378cfaf171",
   "metadata": {},
   "source": [
    "#### Displays secret message."
   ]
  },
  {
   "cell_type": "code",
   "execution_count": 5,
   "id": "50dc8ec4-b7cb-4e80-9bef-591595648e6b",
   "metadata": {},
   "outputs": [
    {
     "name": "stdout",
     "output_type": "stream",
     "text": [
      "Secret Message: Mom I will not be home for supper\n"
     ]
    }
   ],
   "source": [
    "print(\"Secret Message:\", extraction_result)"
   ]
  },
  {
   "cell_type": "markdown",
   "id": "0a9dadd6-441f-4794-8f72-5930d1154197",
   "metadata": {},
   "source": [
    "#### References:\n",
    "- https://towardsdatascience.com/hiding-data-in-an-image-image-steganography-using-python-e491b68b1372\n",
    "- https://www.geeksforgeeks.org/image-based-steganography-using-python/\n",
    "- https://www.section.io/engineering-education/steganography-in-python/"
   ]
  }
 ],
 "metadata": {
  "kernelspec": {
   "display_name": "Python 3 (ipykernel)",
   "language": "python",
   "name": "python3"
  },
  "language_info": {
   "codemirror_mode": {
    "name": "ipython",
    "version": 3
   },
   "file_extension": ".py",
   "mimetype": "text/x-python",
   "name": "python",
   "nbconvert_exporter": "python",
   "pygments_lexer": "ipython3",
   "version": "3.10.9"
  }
 },
 "nbformat": 4,
 "nbformat_minor": 5
}
