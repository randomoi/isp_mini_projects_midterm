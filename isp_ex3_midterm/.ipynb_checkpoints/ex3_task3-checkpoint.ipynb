{
 "cells": [
  {
   "cell_type": "markdown",
   "id": "fa807313-935a-4e48-b2e1-53aded117221",
   "metadata": {},
   "source": [
    "## Task 3\n",
    "Encode and decode a message \"Father Christmas does not exist\".\n",
    "\n",
    "LSB steganography technique will be used to encode and decode secret message.\n",
    "\n",
    "#### Structure:\n",
    "\n",
    "- create secrete message and key\n",
    "- create encoding algorithm\n",
    "- create decoding algorithm\n",
    "- display result of decoded message\n",
    "- references"
   ]
  },
  {
   "cell_type": "code",
   "execution_count": 1,
   "id": "767ac4e7-83a4-4dc9-86c8-de8661db208b",
   "metadata": {},
   "outputs": [],
   "source": [
    "# import libraries\n",
    "import wave\n",
    "import array\n",
    "import random\n",
    "import os"
   ]
  },
  {
   "cell_type": "markdown",
   "id": "6373ca33-baf0-4759-afaa-bef3224159ec",
   "metadata": {},
   "source": [
    "#### Secret message and encryption key"
   ]
  },
  {
   "cell_type": "code",
   "execution_count": 2,
   "id": "3e42d8dc-da20-4849-982b-7645ee4313d6",
   "metadata": {},
   "outputs": [],
   "source": [
    "secret_message = 'Father Christmas does not exist'\n",
    "encryption_key = 94874 # can be changed to any INT\n",
    "bits = 2 # even numbers only"
   ]
  },
  {
   "cell_type": "markdown",
   "id": "c6243546-41dc-490d-9be1-822355bd0b29",
   "metadata": {},
   "source": [
    "#### Encoding Algorithm"
   ]
  },
  {
   "cell_type": "code",
   "execution_count": 3,
   "id": "5ee0085c-0076-4817-acbc-742e1dce890a",
   "metadata": {},
   "outputs": [
    {
     "name": "stdout",
     "output_type": "stream",
     "text": [
      "The audio/Ex3_sound5.wav was succefully opened.\n",
      "Opened the audio/secret_message_file.wav for writting.\n",
      "Closed the audio/secret_message_file.wav after writting.\n"
     ]
    }
   ],
   "source": [
    "original_file = 'audio/Ex3_sound5.wav'\n",
    "new_file = 'audio/secret_message_file.wav'\n",
    "\n",
    "def encoding_algorithm(original_file, secret_message, encryption_key, bits=1):\n",
    "    # secret message from text to binary conversion \n",
    "    message_in_binary = ''.join(format(ord(i), '08b') for i in secret_message)\n",
    "    try:\n",
    "        # try opening file\n",
    "        with wave.open(original_file, 'rb') as file:\n",
    "            # print confirmation message\n",
    "            print(f\"The {original_file} was succefully opened.\")\n",
    "            # read frames and get parameters\n",
    "            file_data = array.array('h', file.readframes(file.getnframes()))\n",
    "            parameters = file.getparams()\n",
    "    \n",
    "    # raise an error   \n",
    "    except IOError:\n",
    "        print(f\"The {original_file} can not be opened. Please check if {original_file} exists in specified location.\")\n",
    "        return\n",
    "    \n",
    "    # random number generator initialization\n",
    "    random_number_generator = random.Random()\n",
    "    random_number_generator.seed(encryption_key)\n",
    "\n",
    "    # random indices\n",
    "    indices = random_number_generator.sample(range(len(file_data)), len(message_in_binary) // bits)\n",
    "    indices.sort() # sort in ascending order\n",
    "\n",
    "    # encode secret message into file\n",
    "    # loop over message in binary and i++bits \n",
    "    for index_of_bit in range(0, len(message_in_binary), bits):\n",
    "        # based on random number generator get random frame \n",
    "        audio_frame = file_data[indices[index_of_bit // bits]]\n",
    "        \n",
    "        # loop over bits\n",
    "        for position_of_bit in range(bits):\n",
    "            # modify bits in audio frame by replacing with bits from message in binary \n",
    "            audio_frame = (audio_frame & ~(1<<position_of_bit)) | (int(message_in_binary[index_of_bit+position_of_bit])<<position_of_bit)\n",
    "        # save with encoded message bits to position in the file \n",
    "        file_data[indices[index_of_bit // bits]] = audio_frame\n",
    "\n",
    "# I would normally put a check for if the file already exists, not to override it, \n",
    "# but for grading purposes it makes it easier to have the file overriden this way \n",
    "# it doesnt need to be deleted before running the program\n",
    "    try:\n",
    "        # try saving encoded audio to a new file\n",
    "        with wave.open(new_file, 'wb') as file:\n",
    "            # print confirmation message\n",
    "            print(f\"Opened the {new_file} for writting.\")\n",
    "            file.setparams(parameters)\n",
    "            file.writeframes(file_data.tobytes())\n",
    "        # print confirmation message\n",
    "        print(f\"Closed the {new_file} after writting.\")\n",
    "    # raise an error\n",
    "    except IOError:\n",
    "        print(f\"The {new_file} can not be open. Please check the {new_file} path.\")\n",
    "        return\n",
    "\n",
    "encoding_algorithm(original_file, secret_message, encryption_key, bits)"
   ]
  },
  {
   "cell_type": "markdown",
   "id": "63c9ea0b-01c8-4f7c-97d1-4eb7a78d36f2",
   "metadata": {},
   "source": [
    "#### Decoding Algorithm"
   ]
  },
  {
   "cell_type": "code",
   "execution_count": 4,
   "id": "d8d4e68d-f51e-4ffd-8f35-22a20dbc6276",
   "metadata": {},
   "outputs": [],
   "source": [
    "def decoding_algorithm(new_file, text_length, encryption_key, bits=1):\n",
    "    try:\n",
    "        # try opening file\n",
    "        with wave.open(new_file, 'rb') as file:\n",
    "            # print confirmation message\n",
    "            print(f\"The {new_file} was succefully opened.\")\n",
    "            # read frames\n",
    "            file_data = array.array('h', file.readframes(file.getnframes()))\n",
    "         \n",
    "    # raise an error   \n",
    "    except IOError:\n",
    "        print(f\"The {new_file} can not be opened. Please check if {new_file} exists in specified location.\")\n",
    "        return\n",
    "        \n",
    "   # random number generator initialization\n",
    "    random_number_generator = random.Random()\n",
    "    random_number_generator.seed(encryption_key)\n",
    "\n",
    "    # random indices\n",
    "    indices = random_number_generator.sample(range(len(file_data)), text_length * 8 // bits)\n",
    "    indices.sort() # sort in ascending order\n",
    "\n",
    "    # decode message\n",
    "    message_in_binary = ''\n",
    "    # iterate through index of bits from zero to 8 (each character = 8 bits)\n",
    "    for index_of_bit in range(0, text_length * 8, bits):\n",
    "        # get audio at index where secret message is located\n",
    "        audio_frame = file_data[indices[index_of_bit // bits]]\n",
    "        \n",
    "        # extract bits\n",
    "        for position_of_bit in range(bits):\n",
    "            # move audio frame to position of bit, extract bit, convert it to string and add it to message in binary\n",
    "            message_in_binary += ''.join(str((audio_frame >> position_of_bit) & 1))\n",
    "   \n",
    "   \n",
    "    # message in binary split into parts of 8 bits -> converts to INT -> converts INT to ASCII char\n",
    "    # combines all characters together by using join()\n",
    "    secret_message = ''.join(chr(int(message_in_binary[index_of_bit:index_of_bit+8], 2)) \n",
    "                             for index_of_bit in range(0, len(message_in_binary), 8))\n",
    "    return secret_message"
   ]
  },
  {
   "cell_type": "markdown",
   "id": "8af816ae-44d1-4fa7-b3b5-46bb48b652cb",
   "metadata": {},
   "source": [
    "#### Display Result of Decoding"
   ]
  },
  {
   "cell_type": "code",
   "execution_count": 5,
   "id": "e4e89b21-3adc-4f58-8250-3b11a14aea6e",
   "metadata": {},
   "outputs": [
    {
     "name": "stdout",
     "output_type": "stream",
     "text": [
      "The audio/secret_message_file.wav was succefully opened.\n",
      "Decoded Secret Message: Father Christmas does not exist\n"
     ]
    }
   ],
   "source": [
    "print('Decoded Secret Message: ' + decoding_algorithm(new_file, len(secret_message), encryption_key, bits))"
   ]
  },
  {
   "cell_type": "markdown",
   "id": "f73e658b-558c-489e-8ec0-ab7b6f60102e",
   "metadata": {},
   "source": [
    "### References:\n",
    "- https://en.wikipedia.org/wiki/Steganography\n",
    "- https://iaeme.com/MasterAdmin/Journal_uploads/IJCET/VOLUME_12_ISSUE_3/IJCET_12_03_001.pdf\n",
    "- https://www.researchgate.net/publication/338029976_An_Overview_of_Digital_Audio_Steganography\n",
    "- https://docs.python.org/3/library/wave.html\n",
    "- https://docs.python.org/3/library/random.html\n",
    "- https://docs.python.org/3/library/functions.html#chr\n",
    "- https://docs.python.org/3/library/stdtypes.html#str.join\n",
    "- https://docs.python.org/3/library/stdtypes.html#string-methods"
   ]
  },
  {
   "cell_type": "code",
   "execution_count": null,
   "id": "a813da17-2e7f-4b0a-b254-068cd958b29c",
   "metadata": {},
   "outputs": [],
   "source": []
  }
 ],
 "metadata": {
  "kernelspec": {
   "display_name": "Python 3 (ipykernel)",
   "language": "python",
   "name": "python3"
  },
  "language_info": {
   "codemirror_mode": {
    "name": "ipython",
    "version": 3
   },
   "file_extension": ".py",
   "mimetype": "text/x-python",
   "name": "python",
   "nbconvert_exporter": "python",
   "pygments_lexer": "ipython3",
   "version": "3.10.9"
  }
 },
 "nbformat": 4,
 "nbformat_minor": 5
}
